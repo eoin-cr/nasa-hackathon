{
 "cells": [
  {
   "cell_type": "markdown",
   "id": "df62afb6-43a6-4d4a-92ea-30e655558623",
   "metadata": {},
   "source": [
    "# Tensorflow option\n",
    "\n",
    "> Finbar Giusti\n",
    "\n",
    "In this notebook, I will test using a transformer network to predict these seismic events."
   ]
  },
  {
   "cell_type": "code",
   "execution_count": 1,
   "id": "5316a059-3f27-49d8-b5df-6c578cbc33fd",
   "metadata": {},
   "outputs": [],
   "source": [
    "%%capture\n",
    "# required libraries\n",
    "\n",
    "%pip install numpy pandas tensorflow scikit-learn seaborn matplotlib obspy keras \n",
    "\n",
    "import pandas as pd\n",
    "import numpy as np\n",
    "import seaborn as sns\n",
    "from obspy import read\n",
    "from sklearn.model_selection import train_test_split\n",
    "from sklearn.preprocessing import StandardScaler, normalize\n",
    "import matplotlib.pyplot as plt\n",
    "from obspy.signal.invsim import cosine_taper\n",
    "from scipy.signal import welch\n",
    "from obspy.signal.freqattributes import spectrum"
   ]
  },
  {
   "cell_type": "code",
   "execution_count": 2,
   "id": "2f7ef7a8-904f-4e1f-9147-7e3e0254b0ce",
   "metadata": {},
   "outputs": [],
   "source": [
    "# lets collect the data from the catalog (this \n",
    "\n",
    "catalog = pd.read_csv('data/lunar/training/catalogs/apollo12_catalog_GradeA_final.csv')\n",
    "\n",
    "training_data = {}\n",
    "\n",
    "for index, row in catalog.iterrows():\n",
    "    training_data[row.evid] = {\n",
    "        'data': read('data/lunar/training/data/S12_GradeA/' + row.filename + '.mseed'),\n",
    "        'rel_time': row['time_rel(sec)'],\n",
    "        'type': row['mq_type']\n",
    "    }"
   ]
  },
  {
   "cell_type": "markdown",
   "id": "672d3dc0-ee93-40e3-9007-56a686513e18",
   "metadata": {},
   "source": [
    "## Theory\n",
    "I would like to use a transformer network to make the binary prediction of whether or not a given window contains the beginning of a seismic event. A transformer network is used as some parts of the signal are more important than others in the prediction of these events."
   ]
  },
  {
   "cell_type": "code",
   "execution_count": 3,
   "id": "b678ce92-0f89-4e10-b12e-d5aa8c72504a",
   "metadata": {},
   "outputs": [],
   "source": [
    "# first let's peek at a sample of the seismic events, to determine how large we should make the windows.\n",
    "\n",
    "events = training_data.keys()\n",
    "\n",
    "WINDOW = 10000 # 10,000 secs for training window\n"
   ]
  },
  {
   "cell_type": "code",
   "execution_count": 4,
   "id": "80b0ac31-b733-4d2e-9382-7644525ede6f",
   "metadata": {},
   "outputs": [],
   "source": [
    "nfft = 1024  # Number of points in FFT\n",
    "width = 3 \n",
    "\n",
    "def convert_to_low_res(tr):\n",
    "    minfreq = 0.5\n",
    "    maxfreq = 1.0\n",
    "    \n",
    "    # Going to create a separate trace for the filter data\n",
    "    trace = tr.copy()\n",
    "    tr.filter('bandpass',freqmin=minfreq,freqmax=maxfreq)\n",
    "    \n",
    "    # Step 2: Define your parameters\n",
    "    fs = trace.stats.sampling_rate  # Sampling frequency\n",
    "    n_seconds = int(trace.stats.npts / fs)  # Total number of seconds\n",
    "    n_bins = 10  # Number of frequency bands\n",
    "    freq_bins = np.linspace(0, fs / 2, n_bins + 1)  # Define frequency bands\n",
    "    amplitudes = np.zeros((n_seconds, n_bins))  # Prepare an array to store amplitudes\n",
    "    \n",
    "    # Step 3: Process the data for each second\n",
    "    for i in range(int(n_seconds/width)):\n",
    "        start = i*width\n",
    "        segment = trace.data[int(start * fs):int((start + width) * fs)]\n",
    "        \n",
    "        # # Apply a taper to minimize edge effects\n",
    "        # taper = cosine_taper(len(segment), 0.1)  # 10% taper\n",
    "        # segment *= taper\n",
    "    \n",
    "        # Compute the PSD using Welch's method\n",
    "        f, Pxx = welch(segment, fs, nperseg=fs * width, nfft=nfft, scaling='density')\n",
    "    \n",
    "        # Step 4: Aggregate the data into frequency bins\n",
    "        for i in range(n_bins):\n",
    "            mask = (f >= freq_bins[i]) & (f < freq_bins[i + 1])\n",
    "            amplitudes[start, i] = np.sqrt(np.sum(Pxx[mask]))\n",
    "\n",
    "    return amplitudes\n"
   ]
  },
  {
   "cell_type": "code",
   "execution_count": 5,
   "id": "f7b5ca26-6571-4650-926d-da4ef7ffd98a",
   "metadata": {},
   "outputs": [
    {
     "data": {
      "image/png": "[encoded data removed]",
      "text/plain": [
       "<Figure size 1000x500 with 1 Axes>"
      ]
     },
     "metadata": {},
     "output_type": "display_data"
    }
   ],
   "source": [
    "# lets see how this transforms the data.\n",
    "sample = training_data[next(iter(events))]\n",
    "example = convert_to_low_res(sample['data'][0])\n",
    "fig, ax = plt.subplots(figsize=(10, 5))\n",
    "ax.imshow(example.T, cmap='hot', interpolation='nearest')\n",
    "ax.set_aspect('auto')\n",
    "ax.axvline(x = sample['rel_time'], color='blue',label='Rel. Arrival')\n",
    "plt.show()"
   ]
  },
  {
   "cell_type": "code",
   "execution_count": 6,
   "id": "ad03acb8-036f-4ae6-a02e-f79ac690040d",
   "metadata": {},
   "outputs": [],
   "source": [
    "# lets transform these datapoints (this may take some time)\n",
    "\n",
    "# for event in events:\n",
    "#     training_data[event]['data_low_res'] = convert_to_low_res(training_data[event]['data'][0])"
   ]
  },
  {
   "cell_type": "code",
   "execution_count": 7,
   "id": "737b4cbf-5ea7-47c3-b6e9-9bf59d83c01a",
   "metadata": {},
   "outputs": [],
   "source": [
    "# # reflect, to save time\n",
    "# for event in events:\n",
    "#     np.savetxt('processed_data/low_res_' + event, training_data[event]['data_low_res'])"
   ]
  },
  {
   "cell_type": "code",
   "execution_count": 8,
   "id": "b50812e5-fe25-43e7-81c5-1c46d7e63e79",
   "metadata": {},
   "outputs": [],
   "source": [
    "# pull from reflextion\n",
    "\n",
    "for event in events:\n",
    "    training_data[event]['data_low_res'] = np.loadtxt('processed_data/low_res_' + event)\n",
    "    "
   ]
  },
  {
   "cell_type": "code",
   "execution_count": 9,
   "id": "0181096d-0345-4b88-bc9c-29e1c04cefd8",
   "metadata": {},
   "outputs": [],
   "source": [
    "# for event in events:\n",
    "#     fig, ax = plt.subplots(figsize=(10, 5))\n",
    "#     ax.imshow(training_data[event]['data_low_res'].T, cmap='hot', interpolation='nearest')\n",
    "#     ax.set_aspect('auto')\n",
    "#     ax.axvline(x = training_data[event]['rel_time'], color='blue',label='Rel. Arrival')\n",
    "#     plt.show()"
   ]
  },
  {
   "cell_type": "code",
   "execution_count": 10,
   "id": "809364df-6881-4ca7-92bf-e995d59009d6",
   "metadata": {},
   "outputs": [],
   "source": [
    "# now, we can create a set of samples, based on windowed chops of each spectrum."
   ]
  },
  {
   "cell_type": "code",
   "execution_count": 11,
   "id": "fcb50305-33ca-40a9-b980-5019225df78e",
   "metadata": {},
   "outputs": [],
   "source": [
    "CONTEXT_SIZE = 10000\n",
    "OVERLAP = 2000\n",
    "\n",
    "def generate_samples(event):\n",
    "    X = []\n",
    "    Y = []\n",
    "    \n",
    "    data = event['data_low_res']\n",
    "    event_time = event['rel_time']\n",
    "    start = 0\n",
    "    while start < len(data) - CONTEXT_SIZE:\n",
    "        X.append(data[start:start+CONTEXT_SIZE])\n",
    "        Y.append(\n",
    "            1 if start <= event_time and start+CONTEXT_SIZE > event_time else 0\n",
    "        )\n",
    "        start += int(CONTEXT_SIZE - OVERLAP)\n",
    "\n",
    "    return X,Y\n",
    "\n",
    "\n",
    "    "
   ]
  },
  {
   "cell_type": "code",
   "execution_count": 17,
   "id": "e50e82a7-21a5-40c6-8a85-8e1c3ac53256",
   "metadata": {},
   "outputs": [],
   "source": [
    "X = []\n",
    "Y = []\n",
    "\n",
    "for event in events:\n",
    "    event_X, event_Y = generate_samples(training_data[event])\n",
    "    X = X + event_X\n",
    "    Y = Y + event_Y\n",
    "\n",
    "X = np.array([normalize(x) for x in X])\n",
    "Y = np.array(Y)\n",
    "\n",
    "X_train, X_test, Y_train, Y_test = train_test_split(X, Y, test_size=0.1, random_state=69)"
   ]
  },
  {
   "cell_type": "code",
   "execution_count": null,
   "id": "dcfd9f3d-7c93-42d6-9ffd-dd80b4ecb62e",
   "metadata": {},
   "outputs": [
    {
     "name": "stdout",
     "output_type": "stream",
     "text": [
      "Epoch 1/50\n",
      "\u001b[1m10/28\u001b[0m \u001b[32m━━━━━━━\u001b[0m\u001b[37m━━━━━━━━━━━━━\u001b[0m \u001b[1m5:43\u001b[0m 19s/step - loss: 0.3566 - sparse_categorical_accuracy: 0.9060"
     ]
    }
   ],
   "source": [
    "from BinaryTransformClassify import BinaryTransformClassifier \n",
    "\n",
    "X_train = X_train.reshape(len(X_train), 10, 10000, 1)\n",
    "\n",
    "btc = BinaryTransformClassifier(X_train[0].shape)\n",
    "\n",
    "history = btc.train(50, X_train, Y_train, batch_size=20)\n",
    "\n"
   ]
  },
  {
   "cell_type": "code",
   "execution_count": null,
   "id": "3c742096-1c92-4579-b095-60a5d2260f00",
   "metadata": {},
   "outputs": [],
   "source": [
    "metric = \"sparse_categorical_accuracy\"\n",
    "plt.figure()\n",
    "plt.plot(history.history[metric])\n",
    "plt.plot(history.history[\"val_\" + metric])\n",
    "plt.title(\"model \" + metric)\n",
    "plt.ylabel(metric, fontsize=\"large\")\n",
    "plt.xlabel(\"epoch\", fontsize=\"large\")\n",
    "plt.legend([\"train\", \"val\"], loc=\"best\")\n",
    "plt.show()\n",
    "plt.close()"
   ]
  },
  {
   "cell_type": "code",
   "execution_count": null,
   "id": "0ab2657d-64fa-49f0-a08c-18d3513188d8",
   "metadata": {},
   "outputs": [],
   "source": [
    "btc.evaluate(X_test, Y_test)"
   ]
  },
  {
   "cell_type": "code",
   "execution_count": null,
   "id": "1bd30f4d-5523-455a-b678-ad46f62506bc",
   "metadata": {},
   "outputs": [],
   "source": [
    "np.unique(Y_test, return_counts=True)"
   ]
  },
  {
   "cell_type": "code",
   "execution_count": null,
   "id": "388311a2-e27a-40f5-b525-be95281d6849",
   "metadata": {},
   "outputs": [],
   "source": []
  }
 ],
 "metadata": {
  "kernelspec": {
   "display_name": "notebook",
   "language": "python",
   "name": "notebook"
  },
  "language_info": {
   "codemirror_mode": {
    "name": "ipython",
    "version": 3
   },
   "file_extension": ".py",
   "mimetype": "text/x-python",
   "name": "python",
   "nbconvert_exporter": "python",
   "pygments_lexer": "ipython3",
   "version": "3.12.6"
  }
 },
 "nbformat": 4,
 "nbformat_minor": 5
}
