{
 "cells": [
  {
   "cell_type": "markdown",
   "id": "b70993fd",
   "metadata": {},
   "source": [
    "# Jupyter notebook to work with the data"
   ]
  },
  {
   "cell_type": "markdown",
   "id": "54d491b7-310a-4c83-b48f-a5de6d2ee916",
   "metadata": {},
   "source": [
    "I just created a separate live notebook so we can focus on the stuff that we find relevant and remove the other stuff, whilst still being able to easily take a look at it"
   ]
  },
  {
   "cell_type": "markdown",
   "id": "17594f12-37dc-4c47-a29f-788cb1973c6d",
   "metadata": {},
   "source": [
    "## Ideas\n",
    "- Seems to be related to change detection, could use similar methods https://en.wikipedia.org/wiki/Change_detection\n",
    "- Can have two steps:\n",
    "    1. Train initially on all the regular, full datasets given (or at least as many as the computer can handle), use some sort of change detection algorithm to analyse previous data and determine where quake happened\n",
    "    2. Probably more impressive and more likely to make us win, could we predict a quake was about to happen *before* it occurs? Don't know if this is possible, but maybe there are mini vibrations or something before the main ones? This would be good for presentation as would reduce amount of storage space required to hold old data and all that, can simply start recording when a quake is about to start"
   ]
  },
  {
   "cell_type": "markdown",
   "id": "13c05b6a",
   "metadata": {},
   "source": [
    "# Read in and plot the Apollo 12 Grade A catalog"
   ]
  },
  {
   "cell_type": "code",
   "execution_count": 5,
   "id": "5aed08ff-db7b-48f2-807a-b734b5656ebd",
   "metadata": {},
   "outputs": [],
   "source": [
    "# Import libraries\n",
    "import numpy as np\n",
    "import pandas as pd\n",
    "from obspy import read\n",
    "from datetime import datetime, timedelta\n",
    "import matplotlib.pyplot as plt\n",
    "import os"
   ]
  },
  {
   "cell_type": "markdown",
   "id": "06540a5c-976d-4a31-8845-004bf31e4722",
   "metadata": {},
   "source": [
    "catalogue(filename, time, ...) -> file(times, velocity, ...)\n",
    "The catalogue has the info about when the events occur for training"
   ]
  },
  {
   "cell_type": "markdown",
   "id": "ad08d22d-bab8-4bcb-b317-f67c3a634a2c",
   "metadata": {},
   "source": [
    "Let's take a look at the training data for the lunar dataset. In addition to the data itself, we include a catalog that will tell you which events happen when in the data. The catalog includes the name of the file, the absolute time, the relative time in seconds (relative to the start of the file), the event ID (evid), and the type of moonquake. The types of moonquakes include impacts, deep moonquakes, and shallow moonquakes. You do not have to worry about predicting the type of moonquakes, that's just fun information for you to know! \n",
    "\n",
    "**Note**: For your prediction, feel free to include either the absolute time or relative time, just make sure to mark it using the same header in the CSV file so we can easily score it!"
   ]
  },
  {
   "cell_type": "code",
   "execution_count": 3,
   "id": "4f7b59be",
   "metadata": {},
   "outputs": [
    {
     "data": {
      "text/html": [
       "<div>\n",
       "<style scoped>\n",
       "    .dataframe tbody tr th:only-of-type {\n",
       "        vertical-align: middle;\n",
       "    }\n",
       "\n",
       "    .dataframe tbody tr th {\n",
       "        vertical-align: top;\n",
       "    }\n",
       "\n",
       "    .dataframe thead th {\n",
       "        text-align: right;\n",
       "    }\n",
       "</style>\n",
       "<table border=\"1\" class=\"dataframe\">\n",
       "  <thead>\n",
       "    <tr style=\"text-align: right;\">\n",
       "      <th></th>\n",
       "      <th>filename</th>\n",
       "      <th>time_abs(%Y-%m-%dT%H:%M:%S.%f)</th>\n",
       "      <th>time_rel(sec)</th>\n",
       "      <th>evid</th>\n",
       "      <th>mq_type</th>\n",
       "    </tr>\n",
       "  </thead>\n",
       "  <tbody>\n",
       "    <tr>\n",
       "      <th>0</th>\n",
       "      <td>xa.s12.00.mhz.1970-01-19HR00_evid00002</td>\n",
       "      <td>1970-01-19T20:25:00.000000</td>\n",
       "      <td>73500.0</td>\n",
       "      <td>evid00002</td>\n",
       "      <td>impact_mq</td>\n",
       "    </tr>\n",
       "    <tr>\n",
       "      <th>1</th>\n",
       "      <td>xa.s12.00.mhz.1970-03-25HR00_evid00003</td>\n",
       "      <td>1970-03-25T03:32:00.000000</td>\n",
       "      <td>12720.0</td>\n",
       "      <td>evid00003</td>\n",
       "      <td>impact_mq</td>\n",
       "    </tr>\n",
       "    <tr>\n",
       "      <th>2</th>\n",
       "      <td>xa.s12.00.mhz.1970-03-26HR00_evid00004</td>\n",
       "      <td>1970-03-26T20:17:00.000000</td>\n",
       "      <td>73020.0</td>\n",
       "      <td>evid00004</td>\n",
       "      <td>impact_mq</td>\n",
       "    </tr>\n",
       "    <tr>\n",
       "      <th>3</th>\n",
       "      <td>xa.s12.00.mhz.1970-04-25HR00_evid00006</td>\n",
       "      <td>1970-04-25T01:14:00.000000</td>\n",
       "      <td>4440.0</td>\n",
       "      <td>evid00006</td>\n",
       "      <td>impact_mq</td>\n",
       "    </tr>\n",
       "    <tr>\n",
       "      <th>4</th>\n",
       "      <td>xa.s12.00.mhz.1970-04-26HR00_evid00007</td>\n",
       "      <td>1970-04-26T14:29:00.000000</td>\n",
       "      <td>52140.0</td>\n",
       "      <td>evid00007</td>\n",
       "      <td>deep_mq</td>\n",
       "    </tr>\n",
       "    <tr>\n",
       "      <th>...</th>\n",
       "      <td>...</td>\n",
       "      <td>...</td>\n",
       "      <td>...</td>\n",
       "      <td>...</td>\n",
       "      <td>...</td>\n",
       "    </tr>\n",
       "    <tr>\n",
       "      <th>71</th>\n",
       "      <td>xa.s12.00.mhz.1974-10-14HR00_evid00156</td>\n",
       "      <td>1974-10-14T17:43:00.000000</td>\n",
       "      <td>63780.0</td>\n",
       "      <td>evid00156</td>\n",
       "      <td>impact_mq</td>\n",
       "    </tr>\n",
       "    <tr>\n",
       "      <th>72</th>\n",
       "      <td>xa.s12.00.mhz.1975-04-12HR00_evid00191</td>\n",
       "      <td>1975-04-12T18:15:00.000000</td>\n",
       "      <td>65700.0</td>\n",
       "      <td>evid00191</td>\n",
       "      <td>impact_mq</td>\n",
       "    </tr>\n",
       "    <tr>\n",
       "      <th>73</th>\n",
       "      <td>xa.s12.00.mhz.1975-05-04HR00_evid00192</td>\n",
       "      <td>1975-05-04T10:05:00.000000</td>\n",
       "      <td>36300.0</td>\n",
       "      <td>evid00192</td>\n",
       "      <td>impact_mq</td>\n",
       "    </tr>\n",
       "    <tr>\n",
       "      <th>74</th>\n",
       "      <td>xa.s12.00.mhz.1975-06-24HR00_evid00196</td>\n",
       "      <td>1975-06-24T16:03:00.000000</td>\n",
       "      <td>57780.0</td>\n",
       "      <td>evid00196</td>\n",
       "      <td>impact_mq</td>\n",
       "    </tr>\n",
       "    <tr>\n",
       "      <th>75</th>\n",
       "      <td>xa.s12.00.mhz.1975-06-26HR00_evid00198</td>\n",
       "      <td>1975-06-26T03:24:00.000000</td>\n",
       "      <td>12240.0</td>\n",
       "      <td>evid00198</td>\n",
       "      <td>impact_mq</td>\n",
       "    </tr>\n",
       "  </tbody>\n",
       "</table>\n",
       "<p>76 rows × 5 columns</p>\n",
       "</div>"
      ],
      "text/plain": [
       "                                  filename time_abs(%Y-%m-%dT%H:%M:%S.%f)  \\\n",
       "0   xa.s12.00.mhz.1970-01-19HR00_evid00002     1970-01-19T20:25:00.000000   \n",
       "1   xa.s12.00.mhz.1970-03-25HR00_evid00003     1970-03-25T03:32:00.000000   \n",
       "2   xa.s12.00.mhz.1970-03-26HR00_evid00004     1970-03-26T20:17:00.000000   \n",
       "3   xa.s12.00.mhz.1970-04-25HR00_evid00006     1970-04-25T01:14:00.000000   \n",
       "4   xa.s12.00.mhz.1970-04-26HR00_evid00007     1970-04-26T14:29:00.000000   \n",
       "..                                     ...                            ...   \n",
       "71  xa.s12.00.mhz.1974-10-14HR00_evid00156     1974-10-14T17:43:00.000000   \n",
       "72  xa.s12.00.mhz.1975-04-12HR00_evid00191     1975-04-12T18:15:00.000000   \n",
       "73  xa.s12.00.mhz.1975-05-04HR00_evid00192     1975-05-04T10:05:00.000000   \n",
       "74  xa.s12.00.mhz.1975-06-24HR00_evid00196     1975-06-24T16:03:00.000000   \n",
       "75  xa.s12.00.mhz.1975-06-26HR00_evid00198     1975-06-26T03:24:00.000000   \n",
       "\n",
       "    time_rel(sec)       evid    mq_type  \n",
       "0         73500.0  evid00002  impact_mq  \n",
       "1         12720.0  evid00003  impact_mq  \n",
       "2         73020.0  evid00004  impact_mq  \n",
       "3          4440.0  evid00006  impact_mq  \n",
       "4         52140.0  evid00007    deep_mq  \n",
       "..            ...        ...        ...  \n",
       "71        63780.0  evid00156  impact_mq  \n",
       "72        65700.0  evid00191  impact_mq  \n",
       "73        36300.0  evid00192  impact_mq  \n",
       "74        57780.0  evid00196  impact_mq  \n",
       "75        12240.0  evid00198  impact_mq  \n",
       "\n",
       "[76 rows x 5 columns]"
      ]
     },
     "execution_count": 3,
     "metadata": {},
     "output_type": "execute_result"
    }
   ],
   "source": [
    "cat_directory = './data/lunar/training/catalogs/'\n",
    "cat_file = cat_directory + 'apollo12_catalog_GradeA_final.csv'\n",
    "cat = pd.read_csv(cat_file)\n",
    "cat"
   ]
  },
  {
   "cell_type": "code",
   "execution_count": 4,
   "id": "b064bdab-567b-4600-92bb-fe00767da61b",
   "metadata": {},
   "outputs": [
    {
     "data": {
      "text/plain": [
       "0"
      ]
     },
     "execution_count": 4,
     "metadata": {},
     "output_type": "execute_result"
    }
   ],
   "source": [
    "# Check whether there are two quakes in any of the data. There isn't.\n",
    "len(cat['filename'])-len(cat['filename'].drop_duplicates())"
   ]
  },
  {
   "cell_type": "markdown",
   "id": "49408b90",
   "metadata": {
    "jp-MarkdownHeadingCollapsed": true
   },
   "source": [
    "## Select a detection"
   ]
  },
  {
   "cell_type": "markdown",
   "id": "7d1d115d-a75c-4d0b-a3e9-0ef66f2dc479",
   "metadata": {},
   "source": [
    "Let's pick the first seismic event in the catalog and let's take a look at the absolute time data. The way we show it here is by using pandas `.iloc` and datetime `.strptime`. We are going to keep the format shown in the absolute time header, which is `'%Y-%m-%dT%H:%M:%S.%f'`"
   ]
  },
  {
   "cell_type": "code",
   "execution_count": 5,
   "id": "e23be5d6",
   "metadata": {},
   "outputs": [
    {
     "data": {
      "text/plain": [
       "datetime.datetime(1970, 6, 26, 20, 1)"
      ]
     },
     "execution_count": 5,
     "metadata": {},
     "output_type": "execute_result"
    }
   ],
   "source": [
    "row = cat.iloc[6]\n",
    "arrival_time = datetime.strptime(row['time_abs(%Y-%m-%dT%H:%M:%S.%f)'],'%Y-%m-%dT%H:%M:%S.%f')\n",
    "arrival_time"
   ]
  },
  {
   "cell_type": "code",
   "execution_count": 6,
   "id": "81ba2b31-465d-4c50-95de-978b75de2878",
   "metadata": {},
   "outputs": [
    {
     "data": {
      "text/plain": [
       "np.float64(72060.0)"
      ]
     },
     "execution_count": 6,
     "metadata": {},
     "output_type": "execute_result"
    }
   ],
   "source": [
    "# If we want the value of relative time, we don't need to use datetime\n",
    "arrival_time_rel = row['time_rel(sec)']\n",
    "arrival_time_rel"
   ]
  },
  {
   "cell_type": "code",
   "execution_count": 7,
   "id": "01e9bf2a-c873-43b1-82dd-2d9109ae39b9",
   "metadata": {},
   "outputs": [
    {
     "data": {
      "text/plain": [
       "'xa.s12.00.mhz.1970-06-26HR00_evid00009'"
      ]
     },
     "execution_count": 7,
     "metadata": {},
     "output_type": "execute_result"
    }
   ],
   "source": [
    "# Let's also get the name of the file\n",
    "test_filename = row.filename\n",
    "test_filename"
   ]
  },
  {
   "cell_type": "markdown",
   "id": "e686ca29",
   "metadata": {
    "jp-MarkdownHeadingCollapsed": true
   },
   "source": [
    "## Read the CSV file corresponding to that detection"
   ]
  },
  {
   "cell_type": "markdown",
   "id": "a076b368-9982-4cad-ab53-06f462927aad",
   "metadata": {},
   "source": [
    "We will now find the csv data file corresponding to that time and plot it!"
   ]
  },
  {
   "cell_type": "code",
   "execution_count": 8,
   "id": "7e033b67",
   "metadata": {},
   "outputs": [
    {
     "data": {
      "text/html": [
       "<div>\n",
       "<style scoped>\n",
       "    .dataframe tbody tr th:only-of-type {\n",
       "        vertical-align: middle;\n",
       "    }\n",
       "\n",
       "    .dataframe tbody tr th {\n",
       "        vertical-align: top;\n",
       "    }\n",
       "\n",
       "    .dataframe thead th {\n",
       "        text-align: right;\n",
       "    }\n",
       "</style>\n",
       "<table border=\"1\" class=\"dataframe\">\n",
       "  <thead>\n",
       "    <tr style=\"text-align: right;\">\n",
       "      <th></th>\n",
       "      <th>time_abs(%Y-%m-%dT%H:%M:%S.%f)</th>\n",
       "      <th>time_rel(sec)</th>\n",
       "      <th>velocity(m/s)</th>\n",
       "    </tr>\n",
       "  </thead>\n",
       "  <tbody>\n",
       "    <tr>\n",
       "      <th>0</th>\n",
       "      <td>1970-06-26T00:00:00.116000</td>\n",
       "      <td>0.000000</td>\n",
       "      <td>-6.727977e-16</td>\n",
       "    </tr>\n",
       "    <tr>\n",
       "      <th>1</th>\n",
       "      <td>1970-06-26T00:00:00.266943</td>\n",
       "      <td>0.150943</td>\n",
       "      <td>-8.646711e-16</td>\n",
       "    </tr>\n",
       "    <tr>\n",
       "      <th>2</th>\n",
       "      <td>1970-06-26T00:00:00.417887</td>\n",
       "      <td>0.301887</td>\n",
       "      <td>-9.298738e-16</td>\n",
       "    </tr>\n",
       "    <tr>\n",
       "      <th>3</th>\n",
       "      <td>1970-06-26T00:00:00.568830</td>\n",
       "      <td>0.452830</td>\n",
       "      <td>-8.589095e-16</td>\n",
       "    </tr>\n",
       "    <tr>\n",
       "      <th>4</th>\n",
       "      <td>1970-06-26T00:00:00.719774</td>\n",
       "      <td>0.603774</td>\n",
       "      <td>-7.139047e-16</td>\n",
       "    </tr>\n",
       "    <tr>\n",
       "      <th>...</th>\n",
       "      <td>...</td>\n",
       "      <td>...</td>\n",
       "      <td>...</td>\n",
       "    </tr>\n",
       "    <tr>\n",
       "      <th>572418</th>\n",
       "      <td>1970-06-27T00:00:02.832981</td>\n",
       "      <td>86402.716981</td>\n",
       "      <td>5.039820e-17</td>\n",
       "    </tr>\n",
       "    <tr>\n",
       "      <th>572419</th>\n",
       "      <td>1970-06-27T00:00:02.983925</td>\n",
       "      <td>86402.867925</td>\n",
       "      <td>-9.191068e-18</td>\n",
       "    </tr>\n",
       "    <tr>\n",
       "      <th>572420</th>\n",
       "      <td>1970-06-27T00:00:03.134868</td>\n",
       "      <td>86403.018868</td>\n",
       "      <td>-2.796955e-17</td>\n",
       "    </tr>\n",
       "    <tr>\n",
       "      <th>572421</th>\n",
       "      <td>1970-06-27T00:00:03.285811</td>\n",
       "      <td>86403.169811</td>\n",
       "      <td>-9.037156e-17</td>\n",
       "    </tr>\n",
       "    <tr>\n",
       "      <th>572422</th>\n",
       "      <td>1970-06-27T00:00:03.436755</td>\n",
       "      <td>86403.320755</td>\n",
       "      <td>-2.439395e-16</td>\n",
       "    </tr>\n",
       "  </tbody>\n",
       "</table>\n",
       "<p>572423 rows × 3 columns</p>\n",
       "</div>"
      ],
      "text/plain": [
       "       time_abs(%Y-%m-%dT%H:%M:%S.%f)  time_rel(sec)  velocity(m/s)\n",
       "0          1970-06-26T00:00:00.116000       0.000000  -6.727977e-16\n",
       "1          1970-06-26T00:00:00.266943       0.150943  -8.646711e-16\n",
       "2          1970-06-26T00:00:00.417887       0.301887  -9.298738e-16\n",
       "3          1970-06-26T00:00:00.568830       0.452830  -8.589095e-16\n",
       "4          1970-06-26T00:00:00.719774       0.603774  -7.139047e-16\n",
       "...                               ...            ...            ...\n",
       "572418     1970-06-27T00:00:02.832981   86402.716981   5.039820e-17\n",
       "572419     1970-06-27T00:00:02.983925   86402.867925  -9.191068e-18\n",
       "572420     1970-06-27T00:00:03.134868   86403.018868  -2.796955e-17\n",
       "572421     1970-06-27T00:00:03.285811   86403.169811  -9.037156e-17\n",
       "572422     1970-06-27T00:00:03.436755   86403.320755  -2.439395e-16\n",
       "\n",
       "[572423 rows x 3 columns]"
      ]
     },
     "execution_count": 8,
     "metadata": {},
     "output_type": "execute_result"
    }
   ],
   "source": [
    "data_directory = './data/lunar/training/data/S12_GradeA/'\n",
    "csv_file = f'{data_directory}{test_filename}.csv'\n",
    "data_cat = pd.read_csv(csv_file)\n",
    "data_cat"
   ]
  },
  {
   "cell_type": "code",
   "execution_count": 9,
   "id": "465d3473",
   "metadata": {},
   "outputs": [
    {
     "data": {
      "text/plain": [
       "<matplotlib.legend.Legend at 0x755ec1ca64e0>"
      ]
     },
     "execution_count": 9,
     "metadata": {},
     "output_type": "execute_result"
    },
    {
     "data": {
      "image/png": "[encoded data removed]",
      "text/plain": [
       "<Figure size 1000x300 with 1 Axes>"
      ]
     },
     "metadata": {},
     "output_type": "display_data"
    }
   ],
   "source": [
    "# Read in time steps and velocities\n",
    "csv_times = np.array(data_cat['time_rel(sec)'].tolist())\n",
    "csv_data = np.array(data_cat['velocity(m/s)'].tolist())\n",
    "\n",
    "# Plot the trace! \n",
    "fig,ax = plt.subplots(1,1,figsize=(10,3))\n",
    "ax.plot(csv_times,csv_data)\n",
    "\n",
    "# Make the plot pretty\n",
    "ax.set_xlim([min(csv_times),max(csv_times)])\n",
    "ax.set_ylabel('Velocity (m/s)')\n",
    "ax.set_xlabel('Time (s)')\n",
    "ax.set_title(f'{test_filename}', fontweight='bold')\n",
    "\n",
    "# Plot where the arrival time is\n",
    "arrival_line = ax.axvline(x=arrival_time_rel, c='red', label='Rel. Arrival')\n",
    "ax.legend(handles=[arrival_line])"
   ]
  },
  {
   "cell_type": "code",
   "execution_count": 10,
   "id": "a59779c2-590f-4853-aba5-1574c4f28a4d",
   "metadata": {},
   "outputs": [
    {
     "data": {
      "text/plain": [
       "<matplotlib.legend.Legend at 0x755ec1cde300>"
      ]
     },
     "execution_count": 10,
     "metadata": {},
     "output_type": "execute_result"
    },
    {
     "data": {
      "image/png": "[encoded data removed]",
      "text/plain": [
       "<Figure size 1000x300 with 1 Axes>"
      ]
     },
     "metadata": {},
     "output_type": "display_data"
    }
   ],
   "source": [
    "# Thought I'd zoom in a bit to just make things clearer\n",
    "# Plot the trace! \n",
    "fig,ax = plt.subplots(1,1,figsize=(10,3))\n",
    "ax.plot(csv_times,csv_data)\n",
    "\n",
    "# Make the plot pretty\n",
    "ax.set_xlim([arrival_time_rel - 200 ,arrival_time_rel + 200])\n",
    "ax.set_ylim([-0.00000001, 0.00000001])\n",
    "ax.set_ylabel('Velocity (m/s)')\n",
    "ax.set_xlabel('Time (s)')\n",
    "ax.set_title(f'{test_filename}', fontweight='bold')\n",
    "\n",
    "# Plot where the arrival time is\n",
    "arrival_line = ax.axvline(x=arrival_time_rel, c='red', label='Rel. Arrival')\n",
    "ax.legend(handles=[arrival_line])"
   ]
  },
  {
   "cell_type": "markdown",
   "id": "68b6174e-ced7-4cad-8c09-9b63890aa12b",
   "metadata": {},
   "source": [
    "What if you wanted to plot in absolute time instead? The operations are very similar, just with a little extra datetime. It takes a bit longer, so we recommend working in relative time to start with!"
   ]
  },
  {
   "cell_type": "code",
   "execution_count": 11,
   "id": "80794f96-443e-43e9-8efa-3c86ee0101d2",
   "metadata": {},
   "outputs": [
    {
     "data": {
      "text/plain": [
       "<matplotlib.legend.Legend at 0x755ebee5ca10>"
      ]
     },
     "execution_count": 11,
     "metadata": {},
     "output_type": "execute_result"
    },
    {
     "data": {
      "image/png": "[encoded data removed]",
      "text/plain": [
       "<Figure size 1000x300 with 1 Axes>"
      ]
     },
     "metadata": {},
     "output_type": "display_data"
    }
   ],
   "source": [
    "# Read in time steps and velocities\n",
    "csv_times_dt = []\n",
    "for absval_str in data_cat['time_abs(%Y-%m-%dT%H:%M:%S.%f)'].values:\n",
    "    csv_times_dt.append(datetime.strptime(absval_str,'%Y-%m-%dT%H:%M:%S.%f'))\n",
    "\n",
    "csv_data = np.array(data_cat['velocity(m/s)'].tolist())\n",
    "\n",
    "# Plot the trace! \n",
    "fig,ax = plt.subplots(1,1,figsize=(10,3))\n",
    "ax.plot(csv_times_dt,csv_data)\n",
    "\n",
    "# Make the plot pretty\n",
    "ax.set_xlim((np.min(csv_times_dt),np.max(csv_times_dt)))\n",
    "ax.set_ylabel('Velocity (m/s)')\n",
    "ax.set_xlabel('Time (month-day hour)')\n",
    "ax.set_title(f'{test_filename}', fontweight='bold')\n",
    "\n",
    "# Plot where the arrival time is\n",
    "arrival_line = ax.axvline(x=arrival_time, c='red', label='Abs. Arrival')\n",
    "ax.legend(handles=[arrival_line])"
   ]
  },
  {
   "cell_type": "markdown",
   "id": "d4f32101",
   "metadata": {
    "jp-MarkdownHeadingCollapsed": true
   },
   "source": [
    "## Alternatively: read the miniseed file corresponding to that detection"
   ]
  },
  {
   "cell_type": "markdown",
   "id": "bab68f39-5709-417f-b1e4-b4bc550f5753",
   "metadata": {},
   "source": [
    "Same procedure as above, just using the miniseed file. "
   ]
  },
  {
   "cell_type": "code",
   "execution_count": 12,
   "id": "5c25af2c",
   "metadata": {},
   "outputs": [
    {
     "data": {
      "text/plain": [
       "1 Trace(s) in Stream:\n",
       "XA.S12.00.MHZ | 1970-06-26T00:00:00.116000Z - 1970-06-27T00:00:03.436755Z | 6.6 Hz, 572423 samples"
      ]
     },
     "execution_count": 12,
     "metadata": {},
     "output_type": "execute_result"
    }
   ],
   "source": [
    "data_directory = './data/lunar/training/data/S12_GradeA/'\n",
    "mseed_file = f'{data_directory}{test_filename}.mseed'\n",
    "st = read(mseed_file)\n",
    "st"
   ]
  },
  {
   "cell_type": "code",
   "execution_count": 13,
   "id": "1d2bf045-75bb-479a-abe1-48489190242a",
   "metadata": {},
   "outputs": [
    {
     "data": {
      "text/plain": [
       "         network: XA\n",
       "         station: S12\n",
       "        location: 00\n",
       "         channel: MHZ\n",
       "       starttime: 1970-06-26T00:00:00.116000Z\n",
       "         endtime: 1970-06-27T00:00:03.436755Z\n",
       "   sampling_rate: 6.625\n",
       "           delta: 0.1509433962264151\n",
       "            npts: 572423\n",
       "           calib: 1.0\n",
       "         _format: MSEED\n",
       "           mseed: AttribDict({'dataquality': 'D', 'number_of_records': 1136, 'encoding': 'FLOAT64', 'byteorder': '>', 'record_length': 4096, 'filesize': 4653056})"
      ]
     },
     "execution_count": 13,
     "metadata": {},
     "output_type": "execute_result"
    }
   ],
   "source": [
    "# The stream file also contains some useful header information\n",
    "st[0].stats"
   ]
  },
  {
   "cell_type": "code",
   "execution_count": 14,
   "id": "af3b24db",
   "metadata": {},
   "outputs": [
    {
     "data": {
      "text/plain": [
       "72059.884"
      ]
     },
     "execution_count": 14,
     "metadata": {},
     "output_type": "execute_result"
    }
   ],
   "source": [
    "# This is how you get the data and the time, which is in seconds\n",
    "tr = st.traces[0].copy()\n",
    "tr_times = tr.times()\n",
    "tr_data = tr.data\n",
    "\n",
    "# Start time of trace (another way to get the relative arrival time using datetime)\n",
    "starttime = tr.stats.starttime.datetime\n",
    "arrival = (arrival_time - starttime).total_seconds()\n",
    "arrival"
   ]
  },
  {
   "cell_type": "markdown",
   "id": "591e4fbe",
   "metadata": {},
   "source": [
    "### Plot the trace and mark the arrival! "
   ]
  },
  {
   "cell_type": "markdown",
   "id": "4cb8314a-c791-41b7-be49-e46455c2ab22",
   "metadata": {},
   "source": [
    "Use a similar method to plot the miniseed data and seismic arrival."
   ]
  },
  {
   "cell_type": "code",
   "execution_count": 15,
   "id": "ebcd8eee",
   "metadata": {
    "scrolled": true
   },
   "outputs": [
    {
     "data": {
      "text/plain": [
       "Text(0.5, 1.0, 'xa.s12.00.mhz.1970-06-26HR00_evid00009')"
      ]
     },
     "execution_count": 15,
     "metadata": {},
     "output_type": "execute_result"
    },
    {
     "data": {
      "image/png": "[encoded data removed]",
      "text/plain": [
       "<Figure size 1000x300 with 1 Axes>"
      ]
     },
     "metadata": {},
     "output_type": "display_data"
    }
   ],
   "source": [
    "# Initialize figure\n",
    "fig,ax = plt.subplots(1,1,figsize=(10,3))\n",
    "\n",
    "# Plot trace\n",
    "ax.plot(tr_times,tr_data)\n",
    "\n",
    "# Mark detection\n",
    "ax.axvline(x = arrival, color='red',label='Rel. Arrival')\n",
    "ax.legend(loc='upper left')\n",
    "\n",
    "# Make the plot pretty\n",
    "ax.set_xlim([min(tr_times),max(tr_times)])\n",
    "ax.set_ylabel('Velocity (m/s)')\n",
    "ax.set_xlabel('Time (s)')\n",
    "ax.set_title(f'{test_filename}', fontweight='bold')"
   ]
  },
  {
   "cell_type": "markdown",
   "id": "eaa6219e-dea6-4c3f-9d28-5859c69f4c2d",
   "metadata": {},
   "source": [
    "There are multiple ways that we can do the absolute time using datetime, here is a simple way using the `.timedelta` method"
   ]
  },
  {
   "cell_type": "code",
   "execution_count": 16,
   "id": "e28cb25b-5b3e-446a-8814-d84281eb1bb1",
   "metadata": {},
   "outputs": [
    {
     "data": {
      "text/plain": [
       "Text(0.5, 1.0, 'xa.s12.00.mhz.1970-06-26HR00_evid00009')"
      ]
     },
     "execution_count": 16,
     "metadata": {},
     "output_type": "execute_result"
    },
    {
     "data": {
      "image/png": "[encoded data removed]",
      "text/plain": [
       "<Figure size 1000x300 with 1 Axes>"
      ]
     },
     "metadata": {},
     "output_type": "display_data"
    }
   ],
   "source": [
    "# Create a vector for the absolute time\n",
    "tr_times_dt = []\n",
    "for tr_val in tr_times:\n",
    "    tr_times_dt.append(starttime + timedelta(seconds=tr_val))\n",
    "\n",
    "# Plot the absolute result\n",
    "fig,ax = plt.subplots(1,1,figsize=(10,3))\n",
    "\n",
    "# Plot trace\n",
    "ax.plot(tr_times_dt,tr_data)\n",
    "\n",
    "# Mark detection\n",
    "arrival_line = ax.axvline(x=arrival_time, c='red', label='Abs. Arrival')\n",
    "ax.legend(handles=[arrival_line])\n",
    "\n",
    "# Make the plot pretty\n",
    "ax.set_xlim([min(tr_times_dt),max(tr_times_dt)])\n",
    "ax.set_ylabel('Velocity (m/s)')\n",
    "ax.set_xlabel('Time (s)')\n",
    "ax.set_title(f'{test_filename}', fontweight='bold')\n"
   ]
  },
  {
   "cell_type": "markdown",
   "id": "44d28df9-ecd2-42df-b0be-ee3fd87fad2f",
   "metadata": {},
   "source": [
    "It's completely up to you whether to work with the CSV file or the miniseed files. We recommend working with the miniseed file as it's a bit faster to run. "
   ]
  },
  {
   "cell_type": "markdown",
   "id": "a970ebb9",
   "metadata": {
    "jp-MarkdownHeadingCollapsed": true
   },
   "source": [
    "## Let's filter the trace"
   ]
  },
  {
   "cell_type": "markdown",
   "id": "14d28e0d-5255-4fa9-b0ba-9cd8dbbed342",
   "metadata": {},
   "source": [
    "Sometimes, it's useful to filter the trace to bring out particular frequencies. This will change the shape of the data and make it easier to see certain parts of the signal. In this example, we will filter the data using a bandpass filter between 0.01 Hz to 0.5 Hz. "
   ]
  },
  {
   "cell_type": "code",
   "execution_count": 17,
   "id": "ed7e1526",
   "metadata": {},
   "outputs": [],
   "source": [
    "# Set the minimum frequency\n",
    "minfreq = 0.5\n",
    "maxfreq = 1.0\n",
    "\n",
    "# Going to create a separate trace for the filter data\n",
    "st_filt = st.copy()\n",
    "st_filt.filter('bandpass',freqmin=minfreq,freqmax=maxfreq)\n",
    "tr_filt = st_filt.traces[0].copy()\n",
    "tr_times_filt = tr_filt.times()\n",
    "tr_data_filt = tr_filt.data"
   ]
  },
  {
   "cell_type": "code",
   "execution_count": 18,
   "id": "7d0fe643-11cf-4d3e-9022-041350458d89",
   "metadata": {},
   "outputs": [],
   "source": [
    "# To better see the patterns, we will create a spectrogram using the scipy function\n",
    "# It requires the sampling rate, which we can get from the miniseed header as shown a few cells above\n",
    "from scipy import signal\n",
    "from matplotlib import cm\n",
    "f, t, sxx = signal.spectrogram(tr_data_filt, tr_filt.stats.sampling_rate)"
   ]
  },
  {
   "cell_type": "code",
   "execution_count": 19,
   "id": "32664fb0-d9e0-4e5a-bc01-7b9d32f0b36f",
   "metadata": {},
   "outputs": [
    {
     "data": {
      "image/png": "[encoded data removed]",
      "text/plain": [
       "<Figure size 1000x1000 with 3 Axes>"
      ]
     },
     "metadata": {},
     "output_type": "display_data"
    }
   ],
   "source": [
    "# Plot the time series and spectrogram\n",
    "fig = plt.figure(figsize=(10, 10))\n",
    "ax = plt.subplot(2, 1, 1)\n",
    "# Plot trace\n",
    "ax.plot(tr_times_filt,tr_data_filt)\n",
    "\n",
    "# Mark detection\n",
    "ax.axvline(x = arrival, color='red',label='Detection')\n",
    "ax.legend(loc='upper left')\n",
    "\n",
    "# Make the plot pretty\n",
    "ax.set_xlim([min(tr_times_filt),max(tr_times_filt)])\n",
    "ax.set_ylabel('Velocity (m/s)')\n",
    "ax.set_xlabel('Time (s)')\n",
    "\n",
    "ax2 = plt.subplot(2, 1, 2)\n",
    "vals = ax2.pcolormesh(t, f, sxx, cmap=cm.jet, vmax=5e-17)\n",
    "ax2.set_xlim([min(tr_times_filt),max(tr_times_filt)])\n",
    "ax2.set_xlabel(f'Time (Day Hour:Minute)', fontweight='bold')\n",
    "ax2.set_ylabel('Frequency (Hz)', fontweight='bold')\n",
    "ax2.axvline(x=arrival, c='red')\n",
    "cbar = plt.colorbar(vals, orientation='horizontal')\n",
    "cbar.set_label('Power ((m/s)^2/sqrt(Hz))', fontweight='bold')"
   ]
  },
  {
   "cell_type": "code",
   "execution_count": null,
   "id": "a5191f19-c2f6-47e3-9e8b-9718779d4a83",
   "metadata": {},
   "outputs": [],
   "source": []
  },
  {
   "cell_type": "markdown",
   "id": "ad93f09d-10cb-42c9-a737-15be09da02f5",
   "metadata": {},
   "source": [
    "## Creating RNN to detect anomalies (the quakes)"
   ]
  },
  {
   "cell_type": "markdown",
   "id": "f6271a7f-cc25-437b-989a-d8e74277191e",
   "metadata": {},
   "source": [
    "We want to split the dataset into anomaly and non anomaly sections. Then we can use a binary classifier with the RNN, should simplify the training. Then we can run a sliding window until a binary classification of anomaly is made."
   ]
  },
  {
   "cell_type": "code",
   "execution_count": 6,
   "id": "a6c492d4-4137-4dab-a254-98fbb91c57ad",
   "metadata": {},
   "outputs": [
    {
     "data": {
      "text/html": [
       "<div>\n",
       "<style scoped>\n",
       "    .dataframe tbody tr th:only-of-type {\n",
       "        vertical-align: middle;\n",
       "    }\n",
       "\n",
       "    .dataframe tbody tr th {\n",
       "        vertical-align: top;\n",
       "    }\n",
       "\n",
       "    .dataframe thead th {\n",
       "        text-align: right;\n",
       "    }\n",
       "</style>\n",
       "<table border=\"1\" class=\"dataframe\">\n",
       "  <thead>\n",
       "    <tr style=\"text-align: right;\">\n",
       "      <th></th>\n",
       "      <th>filename</th>\n",
       "      <th>time_abs(%Y-%m-%dT%H:%M:%S.%f)</th>\n",
       "      <th>time_rel(sec)</th>\n",
       "      <th>evid</th>\n",
       "      <th>mq_type</th>\n",
       "    </tr>\n",
       "  </thead>\n",
       "  <tbody>\n",
       "    <tr>\n",
       "      <th>0</th>\n",
       "      <td>xa.s12.00.mhz.1970-01-19HR00_evid00002</td>\n",
       "      <td>1970-01-19T20:25:00.000000</td>\n",
       "      <td>73500.0</td>\n",
       "      <td>evid00002</td>\n",
       "      <td>impact_mq</td>\n",
       "    </tr>\n",
       "    <tr>\n",
       "      <th>1</th>\n",
       "      <td>xa.s12.00.mhz.1970-03-25HR00_evid00003</td>\n",
       "      <td>1970-03-25T03:32:00.000000</td>\n",
       "      <td>12720.0</td>\n",
       "      <td>evid00003</td>\n",
       "      <td>impact_mq</td>\n",
       "    </tr>\n",
       "    <tr>\n",
       "      <th>2</th>\n",
       "      <td>xa.s12.00.mhz.1970-03-26HR00_evid00004</td>\n",
       "      <td>1970-03-26T20:17:00.000000</td>\n",
       "      <td>73020.0</td>\n",
       "      <td>evid00004</td>\n",
       "      <td>impact_mq</td>\n",
       "    </tr>\n",
       "    <tr>\n",
       "      <th>3</th>\n",
       "      <td>xa.s12.00.mhz.1970-04-25HR00_evid00006</td>\n",
       "      <td>1970-04-25T01:14:00.000000</td>\n",
       "      <td>4440.0</td>\n",
       "      <td>evid00006</td>\n",
       "      <td>impact_mq</td>\n",
       "    </tr>\n",
       "    <tr>\n",
       "      <th>4</th>\n",
       "      <td>xa.s12.00.mhz.1970-04-26HR00_evid00007</td>\n",
       "      <td>1970-04-26T14:29:00.000000</td>\n",
       "      <td>52140.0</td>\n",
       "      <td>evid00007</td>\n",
       "      <td>deep_mq</td>\n",
       "    </tr>\n",
       "    <tr>\n",
       "      <th>...</th>\n",
       "      <td>...</td>\n",
       "      <td>...</td>\n",
       "      <td>...</td>\n",
       "      <td>...</td>\n",
       "      <td>...</td>\n",
       "    </tr>\n",
       "    <tr>\n",
       "      <th>71</th>\n",
       "      <td>xa.s12.00.mhz.1974-10-14HR00_evid00156</td>\n",
       "      <td>1974-10-14T17:43:00.000000</td>\n",
       "      <td>63780.0</td>\n",
       "      <td>evid00156</td>\n",
       "      <td>impact_mq</td>\n",
       "    </tr>\n",
       "    <tr>\n",
       "      <th>72</th>\n",
       "      <td>xa.s12.00.mhz.1975-04-12HR00_evid00191</td>\n",
       "      <td>1975-04-12T18:15:00.000000</td>\n",
       "      <td>65700.0</td>\n",
       "      <td>evid00191</td>\n",
       "      <td>impact_mq</td>\n",
       "    </tr>\n",
       "    <tr>\n",
       "      <th>73</th>\n",
       "      <td>xa.s12.00.mhz.1975-05-04HR00_evid00192</td>\n",
       "      <td>1975-05-04T10:05:00.000000</td>\n",
       "      <td>36300.0</td>\n",
       "      <td>evid00192</td>\n",
       "      <td>impact_mq</td>\n",
       "    </tr>\n",
       "    <tr>\n",
       "      <th>74</th>\n",
       "      <td>xa.s12.00.mhz.1975-06-24HR00_evid00196</td>\n",
       "      <td>1975-06-24T16:03:00.000000</td>\n",
       "      <td>57780.0</td>\n",
       "      <td>evid00196</td>\n",
       "      <td>impact_mq</td>\n",
       "    </tr>\n",
       "    <tr>\n",
       "      <th>75</th>\n",
       "      <td>xa.s12.00.mhz.1975-06-26HR00_evid00198</td>\n",
       "      <td>1975-06-26T03:24:00.000000</td>\n",
       "      <td>12240.0</td>\n",
       "      <td>evid00198</td>\n",
       "      <td>impact_mq</td>\n",
       "    </tr>\n",
       "  </tbody>\n",
       "</table>\n",
       "<p>76 rows × 5 columns</p>\n",
       "</div>"
      ],
      "text/plain": [
       "                                  filename time_abs(%Y-%m-%dT%H:%M:%S.%f)  \\\n",
       "0   xa.s12.00.mhz.1970-01-19HR00_evid00002     1970-01-19T20:25:00.000000   \n",
       "1   xa.s12.00.mhz.1970-03-25HR00_evid00003     1970-03-25T03:32:00.000000   \n",
       "2   xa.s12.00.mhz.1970-03-26HR00_evid00004     1970-03-26T20:17:00.000000   \n",
       "3   xa.s12.00.mhz.1970-04-25HR00_evid00006     1970-04-25T01:14:00.000000   \n",
       "4   xa.s12.00.mhz.1970-04-26HR00_evid00007     1970-04-26T14:29:00.000000   \n",
       "..                                     ...                            ...   \n",
       "71  xa.s12.00.mhz.1974-10-14HR00_evid00156     1974-10-14T17:43:00.000000   \n",
       "72  xa.s12.00.mhz.1975-04-12HR00_evid00191     1975-04-12T18:15:00.000000   \n",
       "73  xa.s12.00.mhz.1975-05-04HR00_evid00192     1975-05-04T10:05:00.000000   \n",
       "74  xa.s12.00.mhz.1975-06-24HR00_evid00196     1975-06-24T16:03:00.000000   \n",
       "75  xa.s12.00.mhz.1975-06-26HR00_evid00198     1975-06-26T03:24:00.000000   \n",
       "\n",
       "    time_rel(sec)       evid    mq_type  \n",
       "0         73500.0  evid00002  impact_mq  \n",
       "1         12720.0  evid00003  impact_mq  \n",
       "2         73020.0  evid00004  impact_mq  \n",
       "3          4440.0  evid00006  impact_mq  \n",
       "4         52140.0  evid00007    deep_mq  \n",
       "..            ...        ...        ...  \n",
       "71        63780.0  evid00156  impact_mq  \n",
       "72        65700.0  evid00191  impact_mq  \n",
       "73        36300.0  evid00192  impact_mq  \n",
       "74        57780.0  evid00196  impact_mq  \n",
       "75        12240.0  evid00198  impact_mq  \n",
       "\n",
       "[76 rows x 5 columns]"
      ]
     },
     "execution_count": 6,
     "metadata": {},
     "output_type": "execute_result"
    }
   ],
   "source": [
    "cat_directory = './data/lunar/training/catalogs/'\n",
    "cat_file = cat_directory + 'apollo12_catalog_GradeA_final.csv'\n",
    "cat = pd.read_csv(cat_file)\n",
    "cat"
   ]
  },
  {
   "cell_type": "code",
   "execution_count": null,
   "id": "27e0730e-4c95-4537-844e-d4f0d1887ff5",
   "metadata": {},
   "outputs": [],
   "source": [
    "# %%time\n",
    "# # Load the catalogue CSV that contains filenames and the quake time\n",
    "\n",
    "# # Assuming your catalogue has two columns: 'filename' and 'quake_time'\n",
    "# # filename: the path to the training file\n",
    "# # quake_time: the time (relative) at which the quake occurs\n",
    "\n",
    "# all_data = []\n",
    "# data_dir = './data/lunar/training/data/S12_GradeA/'\n",
    "\n",
    "# # Process each file in the catalogue\n",
    "# for index, row in catalogue.iterrows():\n",
    "#     filename = row['filename']\n",
    "#     quake_time = row['time_rel(sec)']\n",
    "    \n",
    "#     # Load the corresponding training file (assuming it's a CSV or similar format)\n",
    "#     # Assuming each training file has columns like 'time' and 'amplitude'\n",
    "#     st = read(f'{data_dir}{filename}.mseed')\n",
    "    \n",
    "    \n",
    "#     # Split the data into two parts: before and after the quake\n",
    "#     before_quake = df[df['time'] < quake_time].copy()\n",
    "#     after_quake = df[df['time'] >= quake_time].copy()\n",
    "\n",
    "#     # Label the data: before quake is labeled '0', after quake is labeled '1'\n",
    "#     before_quake['label'] = 0\n",
    "#     after_quake['label'] = 1\n",
    "\n",
    "#     # Concatenate both parts\n",
    "#     labeled_data = pd.concat([before_quake, after_quake])\n",
    "    \n",
    "#     # Store the labeled data in a list\n",
    "#     all_data.append(labeled_data)\n",
    "\n",
    "# # Combine all the labeled data from each file into one large DataFrame\n",
    "# final_dataset = pd.concat(all_data, ignore_index=True)\n"
   ]
  },
  {
   "cell_type": "code",
   "execution_count": 7,
   "id": "d01a7153-1996-4b56-9f04-168ca1ab2d2b",
   "metadata": {},
   "outputs": [
    {
     "name": "stdout",
     "output_type": "stream",
     "text": [
      "CPU times: user 4min 41s, sys: 4.52 s, total: 4min 45s\n",
      "Wall time: 4min 48s\n"
     ]
    }
   ],
   "source": [
    "%%time\n",
    "from obspy.core import UTCDateTime\n",
    "\n",
    "# Assuming your catalogue has two columns: 'filename' and 'time_rel(sec)'\n",
    "data_dir = './data/lunar/training/data/S12_GradeA/'\n",
    "\n",
    "# Create an empty list to store all labeled data\n",
    "all_data = []\n",
    "\n",
    "# Process each file in the catalogue\n",
    "for index, row in cat.iterrows():\n",
    "    filename = row['filename']\n",
    "    quake_time_rel = row['time_rel(sec)']\n",
    "\n",
    "    try:\n",
    "    # Load the corresponding MiniSEED file using obspy\n",
    "        st = read(f'{data_dir}{filename}.mseed')\n",
    "    except:\n",
    "        continue\n",
    "    \n",
    "    # Assuming the MiniSEED file contains only one trace (if multiple, process accordingly)\n",
    "    tr = st[0]  # Extract the first (and only) trace from the stream\n",
    "    \n",
    "    # Get the trace start time (absolute) and the relative quake time\n",
    "    trace_start_time = tr.stats.starttime  # UTCDateTime\n",
    "    quake_time_abs = trace_start_time + quake_time_rel  # Absolute quake time (UTCDateTime)\n",
    "    \n",
    "    # Get the times for each sample point in the trace\n",
    "    times = np.array([trace_start_time + t for t in tr.times()])  # Array of absolute times for each sample\n",
    "\n",
    "    # Split the data into two parts: before and after the quake\n",
    "    before_quake_mask = times < quake_time_abs\n",
    "    after_quake_mask = times >= quake_time_abs\n",
    "\n",
    "    # Extract amplitude values (the data) and corresponding times\n",
    "    amplitudes = tr.data  # The amplitude values of the trace (same length as 'times')\n",
    "\n",
    "    # Create labeled data arrays\n",
    "    before_quake_amplitudes = amplitudes[before_quake_mask]\n",
    "    before_quake_times = times[before_quake_mask]\n",
    "    \n",
    "    after_quake_amplitudes = amplitudes[after_quake_mask]\n",
    "    after_quake_times = times[after_quake_mask]\n",
    "\n",
    "    # Combine the time, amplitude, and label\n",
    "    before_quake_df = pd.DataFrame({\n",
    "        'time': before_quake_times,\n",
    "        'amplitude': before_quake_amplitudes,\n",
    "        'label': 0\n",
    "    })\n",
    "\n",
    "    after_quake_df = pd.DataFrame({\n",
    "        'time': after_quake_times,\n",
    "        'amplitude': after_quake_amplitudes,\n",
    "        'label': 1\n",
    "    })\n",
    "\n",
    "    # Concatenate the before and after data\n",
    "    labeled_data = pd.concat([before_quake_df, after_quake_df])\n",
    "\n",
    "    # Append the labeled data to the list\n",
    "    all_data.append(labeled_data)\n",
    "\n",
    "# Combine all the labeled data into one large DataFrame\n",
    "final_dataset = pd.concat(all_data, ignore_index=True)\n",
    "\n",
    "# Save the final dataset as a CSV or use directly\n",
    "# final_dataset.to_csv('labeled_dataset.csv', index=False)\n"
   ]
  },
  {
   "cell_type": "code",
   "execution_count": 8,
   "id": "33fc59bb-83e0-44f0-bf53-50b79b04d07e",
   "metadata": {},
   "outputs": [
    {
     "data": {
      "text/plain": [
       "128101542"
      ]
     },
     "execution_count": 8,
     "metadata": {},
     "output_type": "execute_result"
    }
   ],
   "source": [
    "final_dataset.size"
   ]
  },
  {
   "cell_type": "code",
   "execution_count": 9,
   "id": "7a6cab96-d47e-4445-a9bd-a7f070e54929",
   "metadata": {},
   "outputs": [
    {
     "data": {
      "text/html": [
       "<div>\n",
       "<style scoped>\n",
       "    .dataframe tbody tr th:only-of-type {\n",
       "        vertical-align: middle;\n",
       "    }\n",
       "\n",
       "    .dataframe tbody tr th {\n",
       "        vertical-align: top;\n",
       "    }\n",
       "\n",
       "    .dataframe thead th {\n",
       "        text-align: right;\n",
       "    }\n",
       "</style>\n",
       "<table border=\"1\" class=\"dataframe\">\n",
       "  <thead>\n",
       "    <tr style=\"text-align: right;\">\n",
       "      <th></th>\n",
       "      <th>time</th>\n",
       "      <th>amplitude</th>\n",
       "      <th>label</th>\n",
       "    </tr>\n",
       "  </thead>\n",
       "  <tbody>\n",
       "    <tr>\n",
       "      <th>0</th>\n",
       "      <td>1970-01-19T00:00:00.665000Z</td>\n",
       "      <td>-6.153279e-14</td>\n",
       "      <td>0</td>\n",
       "    </tr>\n",
       "    <tr>\n",
       "      <th>1</th>\n",
       "      <td>1970-01-19T00:00:00.815943Z</td>\n",
       "      <td>-7.701288e-14</td>\n",
       "      <td>0</td>\n",
       "    </tr>\n",
       "    <tr>\n",
       "      <th>2</th>\n",
       "      <td>1970-01-19T00:00:00.966887Z</td>\n",
       "      <td>-8.396187e-14</td>\n",
       "      <td>0</td>\n",
       "    </tr>\n",
       "    <tr>\n",
       "      <th>3</th>\n",
       "      <td>1970-01-19T00:00:01.117830Z</td>\n",
       "      <td>-8.096155e-14</td>\n",
       "      <td>0</td>\n",
       "    </tr>\n",
       "    <tr>\n",
       "      <th>4</th>\n",
       "      <td>1970-01-19T00:00:01.268774Z</td>\n",
       "      <td>-7.097599e-14</td>\n",
       "      <td>0</td>\n",
       "    </tr>\n",
       "  </tbody>\n",
       "</table>\n",
       "</div>"
      ],
      "text/plain": [
       "                          time     amplitude  label\n",
       "0  1970-01-19T00:00:00.665000Z -6.153279e-14      0\n",
       "1  1970-01-19T00:00:00.815943Z -7.701288e-14      0\n",
       "2  1970-01-19T00:00:00.966887Z -8.396187e-14      0\n",
       "3  1970-01-19T00:00:01.117830Z -8.096155e-14      0\n",
       "4  1970-01-19T00:00:01.268774Z -7.097599e-14      0"
      ]
     },
     "execution_count": 9,
     "metadata": {},
     "output_type": "execute_result"
    }
   ],
   "source": [
    "final_dataset.head()"
   ]
  },
  {
   "cell_type": "code",
   "execution_count": 10,
   "id": "36e58bba-5ab4-40d4-a6a1-b521ae38b4ed",
   "metadata": {},
   "outputs": [
    {
     "data": {
      "text/html": [
       "<div>\n",
       "<style scoped>\n",
       "    .dataframe tbody tr th:only-of-type {\n",
       "        vertical-align: middle;\n",
       "    }\n",
       "\n",
       "    .dataframe tbody tr th {\n",
       "        vertical-align: top;\n",
       "    }\n",
       "\n",
       "    .dataframe thead th {\n",
       "        text-align: right;\n",
       "    }\n",
       "</style>\n",
       "<table border=\"1\" class=\"dataframe\">\n",
       "  <thead>\n",
       "    <tr style=\"text-align: right;\">\n",
       "      <th></th>\n",
       "      <th>time</th>\n",
       "      <th>amplitude</th>\n",
       "      <th>label</th>\n",
       "    </tr>\n",
       "  </thead>\n",
       "  <tbody>\n",
       "    <tr>\n",
       "      <th>486938</th>\n",
       "      <td>1970-01-19T20:25:00.740472Z</td>\n",
       "      <td>9.004942e-10</td>\n",
       "      <td>1</td>\n",
       "    </tr>\n",
       "    <tr>\n",
       "      <th>486939</th>\n",
       "      <td>1970-01-19T20:25:00.891415Z</td>\n",
       "      <td>4.575971e-10</td>\n",
       "      <td>1</td>\n",
       "    </tr>\n",
       "    <tr>\n",
       "      <th>486940</th>\n",
       "      <td>1970-01-19T20:25:01.042358Z</td>\n",
       "      <td>-4.284551e-10</td>\n",
       "      <td>1</td>\n",
       "    </tr>\n",
       "    <tr>\n",
       "      <th>486941</th>\n",
       "      <td>1970-01-19T20:25:01.193302Z</td>\n",
       "      <td>-1.209429e-09</td>\n",
       "      <td>1</td>\n",
       "    </tr>\n",
       "    <tr>\n",
       "      <th>486942</th>\n",
       "      <td>1970-01-19T20:25:01.344245Z</td>\n",
       "      <td>-1.350565e-09</td>\n",
       "      <td>1</td>\n",
       "    </tr>\n",
       "  </tbody>\n",
       "</table>\n",
       "</div>"
      ],
      "text/plain": [
       "                               time     amplitude  label\n",
       "486938  1970-01-19T20:25:00.740472Z  9.004942e-10      1\n",
       "486939  1970-01-19T20:25:00.891415Z  4.575971e-10      1\n",
       "486940  1970-01-19T20:25:01.042358Z -4.284551e-10      1\n",
       "486941  1970-01-19T20:25:01.193302Z -1.209429e-09      1\n",
       "486942  1970-01-19T20:25:01.344245Z -1.350565e-09      1"
      ]
     },
     "execution_count": 10,
     "metadata": {},
     "output_type": "execute_result"
    }
   ],
   "source": [
    "final_dataset[final_dataset['label'] == 1].head()"
   ]
  },
  {
   "cell_type": "code",
   "execution_count": 11,
   "id": "29f133d3-1475-4a0e-a620-305498ab47e5",
   "metadata": {},
   "outputs": [],
   "source": [
    "# from torch import nn, distributions, exp, log\n",
    "# import torch\n",
    "\n",
    "# class LSTM_Encoder(nn.Module):\n",
    "\n",
    "#   def __init__(self, n_features, seq_len, embedding_dim=20):\n",
    "#     super(LSTM_Encoder, self).__init__()\n",
    "\n",
    "#     self.seq_len, self.n_features = seq_len, n_features\n",
    "#     self.embedding_dim = embedding_dim\n",
    "\n",
    "#     self.rnn = nn.LSTM(\n",
    "#       input_size=n_features,\n",
    "#       hidden_size=embedding_dim,\n",
    "#       num_layers=1,\n",
    "#       batch_first=True\n",
    "#     )\n",
    "\n",
    "#   def forward(self, x):\n",
    "#     x = x.reshape((1, self.seq_len, self.n_features))\n",
    "#     _, (hidden_n, _) = self.rnn(x)\n",
    "#     return hidden_n.reshape((self.n_features, self.embedding_dim))"
   ]
  },
  {
   "cell_type": "code",
   "execution_count": null,
   "id": "6c0ef117-1e4b-4238-a175-cea1be63cd32",
   "metadata": {},
   "outputs": [],
   "source": [
    "%%time\n",
    "import numpy as np\n",
    "import pandas as pd\n",
    "from sklearn.model_selection import train_test_split\n",
    "from sklearn.preprocessing import StandardScaler\n",
    "from tensorflow.keras.models import Sequential\n",
    "from tensorflow.keras.layers import GRU, Dense, Dropout\n",
    "from tensorflow.keras.optimizers import Adam\n",
    "\n",
    "# Assume final_dataset is already created with columns 'time', 'amplitude', and 'label'\n",
    "\n",
    "# Step 1: Prepare Data\n",
    "# We only use 'amplitude' as the feature for the RNN, and 'label' as the target\n",
    "X = final_dataset[['amplitude']].values  # Extract amplitude as the feature\n",
    "y = final_dataset['label'].values         # Extract labels (0 or 1)\n",
    "\n",
    "# Step 2: Reshape the data to 3D format (samples, timesteps, features)\n",
    "# Here, we assume a window size of 100 time steps (can be adjusted)\n",
    "window_size = 100\n",
    "\n",
    "def create_sequences(data, labels, window_size):\n",
    "    X_seq, y_seq = [], []\n",
    "    for i in range(len(data) - window_size):\n",
    "        X_seq.append(data[i:i + window_size])  # Create sequence for features\n",
    "        y_seq.append(labels[i + window_size])  # Corresponding label for the end of the sequence\n",
    "    return np.array(X_seq), np.array(y_seq)\n",
    "\n",
    "X_seq, y_seq = create_sequences(X, y, window_size)\n",
    "\n",
    "# Step 3: Split into train and test sets\n",
    "X_train, X_test, y_train, y_test = train_test_split(X_seq, y_seq, test_size=0.2, random_state=42)\n",
    "\n",
    "# Step 4: Normalize/Standardize the data (standardization generally works better for RNNs)\n",
    "scaler = StandardScaler()\n",
    "X_train = scaler.fit_transform(X_train.reshape(-1, 1)).reshape(X_train.shape)\n",
    "X_test = scaler.transform(X_test.reshape(-1, 1)).reshape(X_test.shape)\n",
    "\n",
    "# Step 5: Build the GRU Model\n",
    "model = Sequential()\n",
    "\n",
    "# Add GRU layer\n",
    "model.add(GRU(units=64, return_sequences=True, input_shape=(window_size, 1)))\n",
    "model.add(Dropout(0.2))\n",
    "\n",
    "# Add a second GRU layer (optional, can try with just one GRU layer as well)\n",
    "model.add(GRU(units=64))\n",
    "model.add(Dropout(0.2))\n",
    "\n",
    "# Add Dense layer for binary classification\n",
    "model.add(Dense(units=1, activation='sigmoid'))\n",
    "\n",
    "# Step 6: Compile the Model\n",
    "model.compile(optimizer=Adam(learning_rate=0.001), loss='binary_crossentropy', metrics=['accuracy'])\n",
    "\n",
    "# Step 7: Train the Model\n",
    "history = model.fit(X_train, y_train, epochs=10, batch_size=32, validation_data=(X_test, y_test))\n",
    "\n",
    "# Step 8: Evaluate the Model\n",
    "test_loss, test_acc = model.evaluate(X_test, y_test)\n",
    "print(f\"Test Accuracy: {test_acc * 100:.2f}%\")\n"
   ]
  },
  {
   "cell_type": "code",
   "execution_count": null,
   "id": "d58664ad-f2ab-41da-a698-c5f3ffbdaa87",
   "metadata": {},
   "outputs": [],
   "source": []
  }
 ],
 "metadata": {
  "kernelspec": {
   "display_name": "notebook",
   "language": "python",
   "name": "notebook"
  },
  "language_info": {
   "codemirror_mode": {
    "name": "ipython",
    "version": 3
   },
   "file_extension": ".py",
   "mimetype": "text/x-python",
   "name": "python",
   "nbconvert_exporter": "python",
   "pygments_lexer": "ipython3",
   "version": "3.12.6"
  }
 },
 "nbformat": 4,
 "nbformat_minor": 5
}
